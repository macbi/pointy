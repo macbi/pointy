{
 "cells": [
  {
   "cell_type": "code",
   "execution_count": 1,
   "metadata": {},
   "outputs": [],
   "source": [
    "import pandas as pd\n",
    "from pyproj import Transformer\n",
    "import requests\n",
    "from owslib.wms import WebMapService\n",
    "from eomaps import Maps\n",
    "import matplotlib\n",
    "#matplotlib.use(\"qt5agg\")\n",
    "\n",
    "%matplotlib widget"
   ]
  },
  {
   "cell_type": "code",
   "execution_count": 2,
   "metadata": {},
   "outputs": [
    {
     "data": {
      "text/html": [
       "<div>\n",
       "<style scoped>\n",
       "    .dataframe tbody tr th:only-of-type {\n",
       "        vertical-align: middle;\n",
       "    }\n",
       "\n",
       "    .dataframe tbody tr th {\n",
       "        vertical-align: top;\n",
       "    }\n",
       "\n",
       "    .dataframe thead th {\n",
       "        text-align: right;\n",
       "    }\n",
       "</style>\n",
       "<table border=\"1\" class=\"dataframe\">\n",
       "  <thead>\n",
       "    <tr style=\"text-align: right;\">\n",
       "      <th></th>\n",
       "      <th>numer</th>\n",
       "      <th>X</th>\n",
       "      <th>Y</th>\n",
       "    </tr>\n",
       "  </thead>\n",
       "  <tbody>\n",
       "    <tr>\n",
       "      <th>0</th>\n",
       "      <td>ow-p21</td>\n",
       "      <td>5.580652e+06</td>\n",
       "      <td>5.821888e+06</td>\n",
       "    </tr>\n",
       "    <tr>\n",
       "      <th>1</th>\n",
       "      <td>ow-p23</td>\n",
       "      <td>5.578450e+06</td>\n",
       "      <td>5.823076e+06</td>\n",
       "    </tr>\n",
       "    <tr>\n",
       "      <th>2</th>\n",
       "      <td>ow-p24</td>\n",
       "      <td>5.578447e+06</td>\n",
       "      <td>5.823084e+06</td>\n",
       "    </tr>\n",
       "    <tr>\n",
       "      <th>3</th>\n",
       "      <td>ow-p27</td>\n",
       "      <td>5.576675e+06</td>\n",
       "      <td>5.823817e+06</td>\n",
       "    </tr>\n",
       "    <tr>\n",
       "      <th>4</th>\n",
       "      <td>ow-p30</td>\n",
       "      <td>5.575597e+06</td>\n",
       "      <td>5.824354e+06</td>\n",
       "    </tr>\n",
       "    <tr>\n",
       "      <th>5</th>\n",
       "      <td>ow-p31</td>\n",
       "      <td>5.575619e+06</td>\n",
       "      <td>5.824348e+06</td>\n",
       "    </tr>\n",
       "    <tr>\n",
       "      <th>6</th>\n",
       "      <td>ow-p34</td>\n",
       "      <td>5.574477e+06</td>\n",
       "      <td>5.824943e+06</td>\n",
       "    </tr>\n",
       "    <tr>\n",
       "      <th>7</th>\n",
       "      <td>ow-p35</td>\n",
       "      <td>5.574492e+06</td>\n",
       "      <td>5.824973e+06</td>\n",
       "    </tr>\n",
       "    <tr>\n",
       "      <th>8</th>\n",
       "      <td>ow-p36</td>\n",
       "      <td>5.574497e+06</td>\n",
       "      <td>5.824977e+06</td>\n",
       "    </tr>\n",
       "    <tr>\n",
       "      <th>9</th>\n",
       "      <td>ow-p37</td>\n",
       "      <td>5.574512e+06</td>\n",
       "      <td>5.824988e+06</td>\n",
       "    </tr>\n",
       "    <tr>\n",
       "      <th>10</th>\n",
       "      <td>ow-p39</td>\n",
       "      <td>5.573926e+06</td>\n",
       "      <td>5.825136e+06</td>\n",
       "    </tr>\n",
       "  </tbody>\n",
       "</table>\n",
       "</div>"
      ],
      "text/plain": [
       "     numer             X             Y\n",
       "0   ow-p21  5.580652e+06  5.821888e+06\n",
       "1   ow-p23  5.578450e+06  5.823076e+06\n",
       "2   ow-p24  5.578447e+06  5.823084e+06\n",
       "3   ow-p27  5.576675e+06  5.823817e+06\n",
       "4   ow-p30  5.575597e+06  5.824354e+06\n",
       "5   ow-p31  5.575619e+06  5.824348e+06\n",
       "6   ow-p34  5.574477e+06  5.824943e+06\n",
       "7   ow-p35  5.574492e+06  5.824973e+06\n",
       "8   ow-p36  5.574497e+06  5.824977e+06\n",
       "9   ow-p37  5.574512e+06  5.824988e+06\n",
       "10  ow-p39  5.573926e+06  5.825136e+06"
      ]
     },
     "execution_count": 2,
     "metadata": {},
     "output_type": "execute_result"
    }
   ],
   "source": [
    "df = pd.read_excel('pniewy_rozbitek3.xlsx',sheet_name='wysokosci')\n",
    "df = df[['numer','X', 'Y']]\n",
    "df"
   ]
  },
  {
   "cell_type": "code",
   "execution_count": 3,
   "metadata": {},
   "outputs": [
    {
     "name": "stdout",
     "output_type": "stream",
     "text": [
      "ow-p21: 95\n",
      "ow-p23: 94.5\n",
      "ow-p24: 94.3\n",
      "ow-p27: 99.2\n",
      "ow-p30: 98.1\n",
      "ow-p31: 98.3\n",
      "ow-p34: 87.1\n",
      "ow-p35: 87.6\n",
      "ow-p36: 87.1\n",
      "ow-p37: 88.1\n",
      "ow-p39: 82\n"
     ]
    }
   ],
   "source": [
    "# Some of the most common coordinate systems in Poland:\n",
    "# 1992                  EPSG:2180\n",
    "# 2000 strefa 5         EPSG:2176\n",
    "# 2000 strefa 6         EPSG:2177\n",
    "# 2000 strefa 7         EPSG:2178\n",
    "# 2000 strefa 8         EPSG:2179\n",
    "# WGS84                 EPSG:4326\n",
    "# WGS 1984 Web Mercator EPSG:3857\n",
    "# ETRS 1989 LCC         EPSG:3034\n",
    "# ETRS 1989 LAEA        EPSG:3035\n",
    "# ETRS89                EPSG:4258\n",
    "\n",
    "results = []\n",
    "for index, row in df.iterrows():\n",
    "    x = row['Y']\n",
    "    y = row['X']\n",
    "    transformer = Transformer.from_crs(\"epsg:2176\", \"epsg:2180\") # second value is always 2180, first need to be adjusted to your data\n",
    "    x, y = transformer.transform(x, y)\n",
    "    url = f'https://services.gugik.gov.pl/nmt/?request=GetHByXY&x={x}&y={y}'\n",
    "    response = requests.get(url)\n",
    "    if response.status_code != 200:\n",
    "        results.append({\"Nazwa\": row['numer'], 'Y': row['Y'], 'X': row['X'] ,\"wysokosc\": f'Error: {response.status_code}'})\n",
    "        continue\n",
    "    height = response.json()\n",
    "    results.append({\"Nazwa\": row['numer'], 'Y': row['Y'], 'X': row['X'] ,\"wysokosc\": height})\n",
    "    print(f\"{row['numer']}: {height}\")\n",
    "\n",
    "output = pd.DataFrame(results)\n",
    "    \n",
    "#pd.DataFrame(results).to_excel('Odwierty_heights.xlsx')\n",
    "    \n"
   ]
  },
  {
   "cell_type": "code",
   "execution_count": 3,
   "metadata": {},
   "outputs": [
    {
     "data": {
      "text/html": [
       "<div>\n",
       "<style scoped>\n",
       "    .dataframe tbody tr th:only-of-type {\n",
       "        vertical-align: middle;\n",
       "    }\n",
       "\n",
       "    .dataframe tbody tr th {\n",
       "        vertical-align: top;\n",
       "    }\n",
       "\n",
       "    .dataframe thead th {\n",
       "        text-align: right;\n",
       "    }\n",
       "</style>\n",
       "<table border=\"1\" class=\"dataframe\">\n",
       "  <thead>\n",
       "    <tr style=\"text-align: right;\">\n",
       "      <th></th>\n",
       "      <th>Oznaczenie</th>\n",
       "      <th>X_2000</th>\n",
       "      <th>Y_2000</th>\n",
       "    </tr>\n",
       "  </thead>\n",
       "  <tbody>\n",
       "    <tr>\n",
       "      <th>0</th>\n",
       "      <td>OW-3-1</td>\n",
       "      <td>5.563196e+06</td>\n",
       "      <td>5.826338e+06</td>\n",
       "    </tr>\n",
       "    <tr>\n",
       "      <th>1</th>\n",
       "      <td>OW-3-10</td>\n",
       "      <td>5.563499e+06</td>\n",
       "      <td>5.826307e+06</td>\n",
       "    </tr>\n",
       "    <tr>\n",
       "      <th>2</th>\n",
       "      <td>OW-3-11</td>\n",
       "      <td>5.563552e+06</td>\n",
       "      <td>5.826302e+06</td>\n",
       "    </tr>\n",
       "    <tr>\n",
       "      <th>3</th>\n",
       "      <td>OW-3-12</td>\n",
       "      <td>5.563532e+06</td>\n",
       "      <td>5.826369e+06</td>\n",
       "    </tr>\n",
       "    <tr>\n",
       "      <th>4</th>\n",
       "      <td>OW-3-13</td>\n",
       "      <td>5.563546e+06</td>\n",
       "      <td>5.826349e+06</td>\n",
       "    </tr>\n",
       "    <tr>\n",
       "      <th>...</th>\n",
       "      <td>...</td>\n",
       "      <td>...</td>\n",
       "      <td>...</td>\n",
       "    </tr>\n",
       "    <tr>\n",
       "      <th>104</th>\n",
       "      <td>OW-3-M7</td>\n",
       "      <td>5.563714e+06</td>\n",
       "      <td>5.826523e+06</td>\n",
       "    </tr>\n",
       "    <tr>\n",
       "      <th>105</th>\n",
       "      <td>OW-3-M7A</td>\n",
       "      <td>5.563705e+06</td>\n",
       "      <td>5.826539e+06</td>\n",
       "    </tr>\n",
       "    <tr>\n",
       "      <th>106</th>\n",
       "      <td>OW-3-M8</td>\n",
       "      <td>5.563720e+06</td>\n",
       "      <td>5.826514e+06</td>\n",
       "    </tr>\n",
       "    <tr>\n",
       "      <th>107</th>\n",
       "      <td>OW-3-M8A</td>\n",
       "      <td>5.563732e+06</td>\n",
       "      <td>5.826493e+06</td>\n",
       "    </tr>\n",
       "    <tr>\n",
       "      <th>108</th>\n",
       "      <td>OW-3-M9</td>\n",
       "      <td>5.563957e+06</td>\n",
       "      <td>5.826597e+06</td>\n",
       "    </tr>\n",
       "  </tbody>\n",
       "</table>\n",
       "<p>109 rows × 3 columns</p>\n",
       "</div>"
      ],
      "text/plain": [
       "    Oznaczenie        X_2000        Y_2000\n",
       "0       OW-3-1  5.563196e+06  5.826338e+06\n",
       "1      OW-3-10  5.563499e+06  5.826307e+06\n",
       "2      OW-3-11  5.563552e+06  5.826302e+06\n",
       "3      OW-3-12  5.563532e+06  5.826369e+06\n",
       "4      OW-3-13  5.563546e+06  5.826349e+06\n",
       "..         ...           ...           ...\n",
       "104    OW-3-M7  5.563714e+06  5.826523e+06\n",
       "105   OW-3-M7A  5.563705e+06  5.826539e+06\n",
       "106    OW-3-M8  5.563720e+06  5.826514e+06\n",
       "107   OW-3-M8A  5.563732e+06  5.826493e+06\n",
       "108    OW-3-M9  5.563957e+06  5.826597e+06\n",
       "\n",
       "[109 rows x 3 columns]"
      ]
     },
     "execution_count": 3,
     "metadata": {},
     "output_type": "execute_result"
    }
   ],
   "source": [
    "df = pd.read_excel('wspolrzedne.xlsx',sheet_name='Sheet1')\n",
    "df = df[['Oznaczenie','X_2000', 'Y_2000']]\n",
    "df"
   ]
  },
  {
   "cell_type": "code",
   "execution_count": 9,
   "metadata": {},
   "outputs": [
    {
     "name": "stdout",
     "output_type": "stream",
     "text": [
      "        Nazwa        Y_2000        X_2000  y_wgs 1984  x_wgs 1984  \\\n",
      "0      OW-3-1  5.826338e+06  5.563196e+06   15.932078   52.566494   \n",
      "1     OW-3-10  5.826307e+06  5.563499e+06   15.936527   52.566177   \n",
      "2     OW-3-11  5.826302e+06  5.563552e+06   15.937307   52.566128   \n",
      "3     OW-3-12  5.826369e+06  5.563532e+06   15.937032   52.566732   \n",
      "4     OW-3-13  5.826349e+06  5.563546e+06   15.937232   52.566549   \n",
      "..        ...           ...           ...         ...         ...   \n",
      "104   OW-3-M7  5.826523e+06  5.563714e+06   15.939750   52.568090   \n",
      "105  OW-3-M7A  5.826539e+06  5.563705e+06   15.939610   52.568240   \n",
      "106   OW-3-M8  5.826514e+06  5.563720e+06   15.939826   52.568008   \n",
      "107  OW-3-M8A  5.826493e+06  5.563732e+06   15.940011   52.567816   \n",
      "108   OW-3-M9  5.826597e+06  5.563957e+06   15.943345   52.568733   \n",
      "\n",
      "                                                  link  \n",
      "0    https://www.google.com/maps/search/?api=1&quer...  \n",
      "1    https://www.google.com/maps/search/?api=1&quer...  \n",
      "2    https://www.google.com/maps/search/?api=1&quer...  \n",
      "3    https://www.google.com/maps/search/?api=1&quer...  \n",
      "4    https://www.google.com/maps/search/?api=1&quer...  \n",
      "..                                                 ...  \n",
      "104  https://www.google.com/maps/search/?api=1&quer...  \n",
      "105  https://www.google.com/maps/search/?api=1&quer...  \n",
      "106  https://www.google.com/maps/search/?api=1&quer...  \n",
      "107  https://www.google.com/maps/search/?api=1&quer...  \n",
      "108  https://www.google.com/maps/search/?api=1&quer...  \n",
      "\n",
      "[109 rows x 6 columns]\n"
     ]
    }
   ],
   "source": [
    "# Some of the most common coordinate systems in Poland:\n",
    "# 1992                  EPSG:2180\n",
    "# 2000 strefa 5         EPSG:2176\n",
    "# 2000 strefa 6         EPSG:2177\n",
    "# 2000 strefa 7         EPSG:2178\n",
    "# 2000 strefa 8         EPSG:2179\n",
    "# WGS84                 EPSG:4326\n",
    "# WGS 1984 Web Mercator EPSG:3857\n",
    "# ETRS 1989 LCC         EPSG:3034\n",
    "# ETRS 1989 LAEA        EPSG:3035\n",
    "# ETRS89                EPSG:4258\n",
    "\n",
    "### coordinates to google maps link\n",
    "\n",
    "results = []\n",
    "for index, row in df.iterrows():\n",
    "    x = row['Y_2000']\n",
    "    y = row['X_2000']\n",
    "    transformer = Transformer.from_crs(\"epsg:2176\", \"epsg:4326\") # second value is always 2180, first need to be adjusted to your data\n",
    "    x, y = transformer.transform(x, y)\n",
    "    url = f'https://www.google.com/maps/search/?api=1&query={x}%2C{y}'\n",
    "\n",
    "    results.append({\"Nazwa\": row['Oznaczenie'], 'Y_2000': row['Y_2000'], 'X_2000': row['X_2000'] ,\"y_wgs 1984\":y,\"x_wgs 1984\":x,\"link\": url})\n",
    "\n",
    "\n",
    "output = pd.DataFrame(results)\n",
    "\n",
    "print(output)\n",
    "    \n",
    "pd.DataFrame(results).to_excel('wynik.xlsx')"
   ]
  },
  {
   "cell_type": "code",
   "execution_count": 4,
   "metadata": {},
   "outputs": [],
   "source": [
    "pd.DataFrame.from_dict(results).to_excel('Pniewy-Rozbitek3_wysokosci.xlsx')"
   ]
  },
  {
   "cell_type": "code",
   "execution_count": 3,
   "metadata": {},
   "outputs": [
    {
     "data": {
      "text/plain": [
       "62.2"
      ]
     },
     "execution_count": 3,
     "metadata": {},
     "output_type": "execute_result"
    }
   ],
   "source": [
    "## just for testing\n",
    "\n",
    "transfomer = Transformer.from_crs(\"epsg:2176\", \"epsg:2180\")\n",
    "transformed = transfomer.transform(5825459.3893, 5557779.2058) # Y first, X second, return x, y\n",
    "transformed[0], transformed[1]\n",
    "respone = requests.get(f'https://services.gugik.gov.pl/nmt/?request=GetHByXY&x={transformed[0]}&y={transformed[1]}')\n",
    "respone.json()\n",
    "# df.apply(lambda row: transfomer.transform(row['Y'], row['X']), axis=1, result_type='expand')\n",
    "# df.head()"
   ]
  },
  {
   "cell_type": "code",
   "execution_count": 5,
   "metadata": {},
   "outputs": [],
   "source": [
    "wms = WebMapService(\"https://mapy.geoportal.gov.pl/wss/service/img/guest/TOPO/MapServer/WMSServer\")\n",
    "\n"
   ]
  },
  {
   "cell_type": "code",
   "execution_count": 2,
   "metadata": {},
   "outputs": [],
   "source": [
    "wms = WebMapService('https://mapservices.weather.noaa.gov/eventdriven/services/WWA/watch_warn_adv/MapServer/WMSServer?request=GetCapabilities&service=WMS')"
   ]
  },
  {
   "cell_type": "code",
   "execution_count": 8,
   "metadata": {},
   "outputs": [
    {
     "data": {
      "text/plain": [
       "['0', '1']"
      ]
     },
     "execution_count": 8,
     "metadata": {},
     "output_type": "execute_result"
    }
   ],
   "source": [
    "wms.identification.type\n",
    "wms.identification.version\n",
    "wms.identification.title\n",
    "wms.identification.abstract\n",
    "list(wms.contents)"
   ]
  },
  {
   "cell_type": "code",
   "execution_count": 9,
   "metadata": {},
   "outputs": [
    {
     "data": {
      "text/plain": [
       "(-166.005629, 18.913827, -68.950699, 70.349717, 'EPSG:4326')"
      ]
     },
     "execution_count": 9,
     "metadata": {},
     "output_type": "execute_result"
    }
   ],
   "source": [
    "wms['1'].boundingBox  "
   ]
  },
  {
   "cell_type": "code",
   "execution_count": 17,
   "metadata": {},
   "outputs": [],
   "source": [
    "img = wms.getmap(layers=['0'], styles=['default'], srs='EPSG:4326', bbox=( -166.005629, 18.913827, -68.950699, 70.349717), size=(1000, 1000), format='image/jpeg', transparent=True)\n"
   ]
  },
  {
   "cell_type": "code",
   "execution_count": 18,
   "metadata": {},
   "outputs": [],
   "source": [
    "out = open('mapa_usa.jpg', 'wb')\n",
    "out.write(img.read())\n",
    "out.close()"
   ]
  },
  {
   "cell_type": "code",
   "execution_count": 10,
   "metadata": {},
   "outputs": [
    {
     "data": {
      "text/plain": [
       "['EPSG:102100', 'EPSG:3857', 'EPSG:4326']"
      ]
     },
     "execution_count": 10,
     "metadata": {},
     "output_type": "execute_result"
    }
   ],
   "source": [
    "wms['1'].crsOptions"
   ]
  },
  {
   "cell_type": "code",
   "execution_count": 11,
   "metadata": {},
   "outputs": [
    {
     "data": {
      "text/plain": [
       "{'default': {'title': 'CurrentWarnings',\n",
       "  'legend': 'https://mapservices.weather.noaa.gov:443/eventdriven/services/WWA/watch_warn_adv/MapServer/WMSServer?request=GetLegendGraphic%26version=1.1.1%26format=image/png%26layer=1'}}"
      ]
     },
     "execution_count": 11,
     "metadata": {},
     "output_type": "execute_result"
    }
   ],
   "source": [
    "wms['1'].styles"
   ]
  },
  {
   "cell_type": "code",
   "execution_count": 12,
   "metadata": {},
   "outputs": [
    {
     "data": {
      "text/plain": [
       "['GetCapabilities', 'GetMap', 'GetFeatureInfo', 'GetStyles']"
      ]
     },
     "execution_count": 12,
     "metadata": {},
     "output_type": "execute_result"
    }
   ],
   "source": [
    "[op.name for op in wms.operations]"
   ]
  },
  {
   "cell_type": "code",
   "execution_count": 13,
   "metadata": {},
   "outputs": [
    {
     "data": {
      "text/plain": [
       "[{'type': 'Get',\n",
       "  'url': 'https://mapservices.weather.noaa.gov:443/eventdriven/services/WWA/watch_warn_adv/MapServer/WMSServer?'}]"
      ]
     },
     "execution_count": 13,
     "metadata": {},
     "output_type": "execute_result"
    }
   ],
   "source": [
    "wms.getOperationByName('GetCapabilities').methods"
   ]
  },
  {
   "cell_type": "code",
   "execution_count": 14,
   "metadata": {},
   "outputs": [
    {
     "data": {
      "text/plain": [
       "['image/bmp',\n",
       " 'image/jpeg',\n",
       " 'image/tiff',\n",
       " 'image/png',\n",
       " 'image/png8',\n",
       " 'image/png24',\n",
       " 'image/png32',\n",
       " 'image/gif',\n",
       " 'image/svg+xml']"
      ]
     },
     "execution_count": 14,
     "metadata": {},
     "output_type": "execute_result"
    }
   ],
   "source": [
    "wms.getOperationByName('GetMap').formatOptions"
   ]
  },
  {
   "cell_type": "code",
   "execution_count": 5,
   "metadata": {},
   "outputs": [
    {
     "data": {
      "text/plain": [
       "(5609001.9413, 5828718.1483)"
      ]
     },
     "execution_count": 5,
     "metadata": {},
     "output_type": "execute_result"
    }
   ],
   "source": [
    "df['X'][0], df['Y'][0]"
   ]
  },
  {
   "cell_type": "code",
   "execution_count": 6,
   "metadata": {},
   "outputs": [
    {
     "name": "stdout",
     "output_type": "stream",
     "text": [
      "5821887.6448 5580652.2874\n",
      "521311.0836897157 309321.62390128884\n",
      "515311.0836897157 303321.62390128884 527311.0836897157 315321.62390128884\n"
     ]
    }
   ],
   "source": [
    "x = df['Y'][0]\n",
    "y = df['X'][0]\n",
    "print(x, y)\n",
    "transformer = Transformer.from_crs(\"epsg:2176\", \"epsg:2180\") # second value is always 2180, first need to be adjusted to your data\n",
    "x_trans, y_trans = transformer.transform(x, y)\n",
    "print(x_trans, y_trans)\n",
    "max_y = y_trans + 6000\n",
    "min_y = y_trans - 6000\n",
    "min_x = x_trans - 6000\n",
    "max_x = x_trans + 6000\n",
    "print(min_x, min_y, max_x, max_y)"
   ]
  },
  {
   "cell_type": "code",
   "execution_count": 7,
   "metadata": {},
   "outputs": [],
   "source": [
    "img = wms.getmap(layers=['Raster'], styles=['default'], srs='EPSG:2180', bbox=( min_y, min_x, max_y, max_x), size=(1000, 1000), format='image/jpeg', transparent=True)\n"
   ]
  },
  {
   "cell_type": "code",
   "execution_count": 23,
   "metadata": {},
   "outputs": [],
   "source": [
    "min_y = 299215.4604\n",
    "max_y = 315837.4641\n",
    "min_x = 518165.8933\n",
    "max_x = 527601.1219\n",
    "\n",
    "img = wms.getmap(layers=['Raster'], styles=['default'], srs='EPSG:2180', bbox=( min_y, min_x, max_y, max_x), size=(2000,1133), format='image/jpeg', transparent=True)\n"
   ]
  },
  {
   "cell_type": "code",
   "execution_count": 8,
   "metadata": {},
   "outputs": [],
   "source": [
    "out = open('mapa.jpg', 'wb')\n",
    "out.write(img.read())\n",
    "out.close()"
   ]
  },
  {
   "cell_type": "code",
   "execution_count": 65,
   "metadata": {},
   "outputs": [
    {
     "data": {
      "application/vnd.jupyter.widget-view+json": {
       "model_id": "ae5c495119594349a7a9c698546ce5f4",
       "version_major": 2,
       "version_minor": 0
      },
      "image/png": "[encoded data removed]",
      "text/html": [
       "\n",
       "            <div style=\"display: inline-block;\">\n",
       "                <div class=\"jupyter-widgets widget-label\" style=\"text-align: center;\">\n",
       "                    Figure\n",
       "                </div>\n",
       "                <img src='data:image/png;base64,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' width=700.0/>\n",
       "            </div>\n",
       "        "
      ],
      "text/plain": [
       "Canvas(header_visible=False, toolbar=Toolbar(toolitems=[('Home', 'Reset original view', 'home', 'home'), ('Bac…"
      ]
     },
     "metadata": {},
     "output_type": "display_data"
    }
   ],
   "source": [
    "m = Maps(crs=2180, layer=\"first_layer\", figsize=(7,7))\n",
    "m.set_extent(extents=( min_y, max_y, min_x, max_x), crs=2180) # set the extent of the map\n",
    "\n",
    "m_data = m.new_layer()\n",
    "m_data.set_data(output, y='X', x='Y', crs=2180, parameter='wysokosc')\n",
    "\n",
    "layer = m.add_wms.get_service('http://mapy.geoportal.gov.pl/wss/service/img/guest/TOPO/MapServer/WMSServer?',\n",
    "                                service_type=\"wms\")['Raster']\n",
    "\n",
    "\n",
    "\n",
    "m_data.set_shape.geod_circles(radius=10)      # Draw geodesic circles  \n",
    "m_data.plot_map(vmin=0, ec=\"k\", cmap=\"magma\")  # Plot the data)\n",
    "layer()"
   ]
  },
  {
   "cell_type": "code",
   "execution_count": null,
   "metadata": {},
   "outputs": [
    {
     "data": {
      "image/png": "[encoded data removed]"
     },
     "metadata": {},
     "output_type": "display_data"
    }
   ],
   "source": [
    "m.show()                       # show the map\n"
   ]
  }
 ],
 "metadata": {
  "kernelspec": {
   "display_name": "Python 3",
   "language": "python",
   "name": "python3"
  },
  "language_info": {
   "codemirror_mode": {
    "name": "ipython",
    "version": 3
   },
   "file_extension": ".py",
   "mimetype": "text/x-python",
   "name": "python",
   "nbconvert_exporter": "python",
   "pygments_lexer": "ipython3",
   "version": "3.11.2"
  }
 },
 "nbformat": 4,
 "nbformat_minor": 2
}
